{
 "metadata": {
  "language_info": {
   "codemirror_mode": {
    "name": "ipython",
    "version": 3
   },
   "file_extension": ".py",
   "mimetype": "text/x-python",
   "name": "python",
   "nbconvert_exporter": "python",
   "pygments_lexer": "ipython3",
   "version": "3.8.5-final"
  },
  "orig_nbformat": 2,
  "kernelspec": {
   "name": "python_defaultSpec_1599787292382",
   "display_name": "Python 3.8.5 64-bit ('3.8.5': pyenv)"
  }
 },
 "nbformat": 4,
 "nbformat_minor": 2,
 "cells": [
  {
   "cell_type": "code",
   "execution_count": 1,
   "metadata": {},
   "outputs": [],
   "source": [
    "# 初始化Spark\n",
    "try:\n",
    "    sc.stop()\n",
    "except:\n",
    "    pass\n",
    "from pyspark import SparkConf, SparkContext\n",
    "from pyspark.sql import SparkSession\n",
    "\n",
    "sc = SparkContext()\n",
    "spark = SparkSession(sparkContext=sc)\n"
   ]
  },
  {
   "cell_type": "markdown",
   "metadata": {},
   "source": [
    "# 弹性分布式数据集RDD\n",
    "\n",
    "## RDD的概念\n",
    "\n",
    "RDD(Resilient Distributed Datasets)，**弹性分布式数据集**，是spark中最基本的数据抽象，它代表一个不可变、可分区、里面的元素可并行计算的集合。\n",
    "\n",
    "RDD具有数据流模型的特点：自动容错、位置感知性调度和可伸缩性。\n",
    "\n",
    "RDD允许用户在执行多个查询时显式地将工作集缓存在内存中，后续的插叙能够重用工作集，这极大地提高了查询速度。\n",
    "\n",
    "## RDD的属性\n",
    "\n",
    "1. 分区（Partition），即数据集的基本组成单位。对于RDD来说，每个分区都会被一个计算任务处理，并决定并行计算的粒度。用户可以在创建RDD时指定RDD的分区个数，如果没有指定，那么就会采用默认值。默认值就是程序所分配到的CPU Core的数目。（注：源代码中部分地方使用分片Slice，是为了保存向后兼容性）\n",
    "\n",
    "2. 一个计算每个分区的函数。Spark中RDD的计算是以分区为单位的，每个RDD都会实现compute函数以达到这个目的。compute函数会对迭代器进行复合，不需要保存每次计算的结果。\n",
    "\n",
    "3. RDD之间的依赖关系。RDD的每次转换都会生成一个新的RDD，所以RDD之间就会形成类似于流水线一样的前后依赖关系。在部分分区数据丢失时，Spark可以通过这个依赖关系重新计算丢失的分区数据，而不是对RDD的所有分区进行重新计算。\n",
    "\n",
    "4. 一个Partitioner，即RDD的分区函数。当前Spark中实现了两种类型的分区函数，一个是基于哈希的HashPartitioner，另外一个是基于范围的RangePartitioner。只有对于于key-value的RDD，才会有Partitioner，非key-value的RDD的Parititioner的值是None。Partitioner函数不但决定了RDD本身的分区数量，也决定了parent RDD Shuffle输出时的分区数量。\n",
    "\n",
    "5. 一个列表，存储存取每个Partition的优先位置（preferred location）。对于一个HDFS文件来说，这个列表保存的就是每个Partition所在的块的位置。按照“移动数据不如移动计算”的理念，Spark在进行任务调度的时候，会尽可能地将计算任务分配到其所要处理数据块的存储位置。\n",
    "\n",
    "![WordCount图解RDD](../../images/WordCount图解RDD.png)\n",
    "\n",
    "其中hello.txt\n",
    "\n",
    "![hello.txt](../../images/hello.txt.png)\n"
   ]
  },
  {
   "cell_type": "markdown",
   "metadata": {},
   "source": [
    "## RDD创建方式\n",
    "\n",
    "创建RDD的方法有两种：\n",
    "- `并行化`驱动程序中的现有集合\n",
    "- `引用外部存储系统`（例如共享文件系统，HDFS，HBase或提供Hadoop InputFormat的任何数据源）中的数据集。"
   ]
  },
  {
   "cell_type": "markdown",
   "metadata": {},
   "source": [
    "### 并行化\n",
    "\n",
    "`SparkContext.parallelize`方法读取可迭代对象或集合(如:`dict`,`list`,`tuple`,`set`)，转换为可以并行计算的分布式数据集。"
   ]
  },
  {
   "cell_type": "code",
   "execution_count": 2,
   "metadata": {},
   "outputs": [
    {
     "output_type": "execute_result",
     "data": {
      "text/plain": "[1, 2, 3]"
     },
     "metadata": {},
     "execution_count": 2
    }
   ],
   "source": [
    "# from a list\n",
    "rdd = sc.parallelize([1,2,3])\n",
    "rdd.collect()"
   ]
  },
  {
   "cell_type": "code",
   "execution_count": 3,
   "metadata": {},
   "outputs": [
    {
     "output_type": "execute_result",
     "data": {
      "text/plain": "['cat', 'dog', 'fish']"
     },
     "metadata": {},
     "execution_count": 3
    }
   ],
   "source": [
    "# from a tuple\n",
    "rdd = sc.parallelize(('cat', 'dog', 'fish'))\n",
    "rdd.collect()"
   ]
  },
  {
   "cell_type": "code",
   "execution_count": 4,
   "metadata": {},
   "outputs": [
    {
     "output_type": "execute_result",
     "data": {
      "text/plain": "[('cat', 'dog', 'fish'), ('orange', 'apple')]"
     },
     "metadata": {},
     "execution_count": 4
    }
   ],
   "source": [
    "# from a list of tuple\n",
    "list_t = [('cat', 'dog', 'fish'), ('orange', 'apple')]\n",
    "rdd = sc.parallelize(list_t)\n",
    "rdd.collect()"
   ]
  },
  {
   "cell_type": "code",
   "execution_count": 5,
   "metadata": {},
   "outputs": [
    {
     "output_type": "execute_result",
     "data": {
      "text/plain": "['dog', 'fish', 'cat']"
     },
     "metadata": {},
     "execution_count": 5
    }
   ],
   "source": [
    "# from a set\n",
    "s = {'cat', 'dog', 'fish', 'cat', 'dog', 'dog'}\n",
    "rdd = sc.parallelize(s)\n",
    "rdd.collect()"
   ]
  },
  {
   "cell_type": "code",
   "execution_count": 6,
   "metadata": {},
   "outputs": [
    {
     "output_type": "execute_result",
     "data": {
      "text/plain": "['a', 'b', 'c']"
     },
     "metadata": {},
     "execution_count": 6
    }
   ],
   "source": [
    "# 对于`dict`, 仅用keys构建RDD\n",
    "d = {\n",
    "    'a': 100,\n",
    "    'b': 200,\n",
    "    'c': 300\n",
    "}\n",
    "rdd = sc.parallelize(d)\n",
    "rdd.collect()"
   ]
  },
  {
   "cell_type": "markdown",
   "metadata": {},
   "source": [
    "### 引用外部数据集\n",
    "\n",
    "PySpark可以从Hadoop支持的任何存储源创建分布式数据集，包括本地文件系统，HDFS，Cassandra，HBase，Amazon S3等。Spark支持文本文件，SequenceFiles和任何其他Hadoop InputFormat。\n",
    "\n",
    "`SparkContext.textFile`读取文件的URI（本地路径，或一个hdfs://，s3a://等URI），返回字符串RDD，其中一个字符串元素对应文件的一行。\n"
   ]
  },
  {
   "cell_type": "code",
   "execution_count": 7,
   "metadata": {},
   "outputs": [
    {
     "output_type": "execute_result",
     "data": {
      "text/plain": "[',mpg,cyl,disp,hp,drat,wt,qsec,vs,am,gear,carb',\n 'Mazda RX4,21,6,160,110,3.9,2.62,16.46,0,1,4,4',\n 'Mazda RX4 Wag,21,6,160,110,3.9,2.875,17.02,0,1,4,4',\n 'Datsun 710,22.8,4,108,93,3.85,2.32,18.61,1,1,4,1',\n 'Hornet 4 Drive,21.4,6,258,110,3.08,3.215,19.44,1,0,3,1']"
     },
     "metadata": {},
     "execution_count": 7
    }
   ],
   "source": [
    "# 读取文件\n",
    "rdd = sc.textFile('../../data/mtcars.csv')\n",
    "rdd.take(5)"
   ]
  },
  {
   "cell_type": "code",
   "execution_count": 19,
   "metadata": {},
   "outputs": [
    {
     "output_type": "execute_result",
     "data": {
      "text/plain": "r. Michael\",male,,0,0,36568,15.5,,Q',\n '720,0,3,\"Johnson, Mr. Malkolm Joackim\",male,33,0,0,347062,7.775,,S',\n '721,1,2,\"Harper, Miss. Annie Jessie \"\"Nina\"\"\",female,6,0,1,248727,33,,S',\n '722,0,3,\"Jensen, Mr. Svend Lauritz\",male,17,1,0,350048,7.0542,,S',\n '723,0,2,\"Gillespie, Mr. William Henry\",male,34,0,0,12233,13,,S',\n '724,0,2,\"Hodges, Mr. Henry Price\",male,50,0,0,250643,13,,S',\n '725,1,1,\"Chambers, Mr. Norman Campbell\",male,27,1,0,113806,53.1,E8,S',\n '726,0,3,\"Oreskovic, Mr. Luka\",male,20,0,0,315094,8.6625,,S',\n '727,1,2,\"Renouf, Mrs. Peter Henry (Lillian Jefferys)\",female,30,3,0,31027,21,,S',\n '728,1,3,\"Mannion, Miss. Margareth\",female,,0,0,36866,7.7375,,Q',\n '729,0,2,\"Bryhl, Mr. Kurt Arnold Gottfrid\",male,25,1,0,236853,26,,S',\n '730,0,3,\"Ilmakangas, Miss. Pieta Sofia\",female,25,1,0,STON/O2. 3101271,7.925,,S',\n '731,1,1,\"Allen, Miss. Elisabeth Walton\",female,29,0,0,24160,211.3375,B5,S',\n '732,0,3,\"Hassan, Mr. Houssein G N\",male,11,0,0,2699,18.7875,,C',\n '733,0,2,\"Knight, Mr. Robert J\",male,,0,0,239855,0,,S',\n '734,0,2,\"Berriman, Mr. William John\",male,23,0,0,28425,13,,S',\n '735,0,2,\"Troupiansky, Mr. Moses Aaron\",male,23,0,0,233639,13,,S',\n '736,0,3,\"Williams, Mr. Leslie\",male,28.5,0,0,54636,16.1,,S',\n '737,0,3,\"Ford, Mrs. Edward (Margaret Ann Watson)\",female,48,1,3,W./C. 6608,34.375,,S',\n '738,1,1,\"Lesurer, Mr. Gustave J\",male,35,0,0,PC 17755,512.3292,B101,C',\n '739,0,3,\"Ivanoff, Mr. Kanio\",male,,0,0,349201,7.8958,,S',\n '740,0,3,\"Nankoff, Mr. Minko\",male,,0,0,349218,7.8958,,S',\n '741,1,1,\"Hawksford, Mr. Walter James\",male,,0,0,16988,30,D45,S',\n '742,0,1,\"Cavendish, Mr. Tyrell William\",male,36,1,0,19877,78.85,C46,S',\n '743,1,1,\"Ryerson, Miss. Susan Parker \"\"Suzette\"\"\",female,21,2,2,PC 17608,262.375,B57 B59 B63 B66,C',\n '744,0,3,\"McNamee, Mr. Neal\",male,24,1,0,376566,16.1,,S',\n '745,1,3,\"Stranden, Mr. Juho\",male,31,0,0,STON/O 2. 3101288,7.925,,S',\n '746,0,1,\"Crosby, Capt. Edward Gifford\",male,70,1,1,WE/P 5735,71,B22,S',\n '747,0,3,\"Abbott, Mr. Rossmore Edward\",male,16,1,1,C.A. 2673,20.25,,S',\n '748,1,2,\"Sinkkonen, Miss. Anna\",female,30,0,0,250648,13,,S',\n '749,0,1,\"Marvin, Mr. Daniel Warner\",male,19,1,0,113773,53.1,D30,S',\n '750,0,3,\"Connaghton, Mr. Michael\",male,31,0,0,335097,7.75,,Q',\n '751,1,2,\"Wells, Miss. Joan\",female,4,1,1,29103,23,,S',\n '752,1,3,\"Moor, Master. Meier\",male,6,0,1,392096,12.475,E121,S',\n '753,0,3,\"Vande Velde, Mr. Johannes Joseph\",male,33,0,0,345780,9.5,,S',\n '754,0,3,\"Jonkoff, Mr. Lalio\",male,23,0,0,349204,7.8958,,S',\n '755,1,2,\"Herman, Mrs. Samuel (Jane Laver)\",female,48,1,2,220845,65,,S',\n '756,1,2,\"Hamalainen, Master. Viljo\",male,0.67,1,1,250649,14.5,,S',\n '757,0,3,\"Carlsson, Mr. August Sigfrid\",male,28,0,0,350042,7.7958,,S',\n '758,0,2,\"Bailey, Mr. Percy Andrew\",male,18,0,0,29108,11.5,,S',\n '759,0,3,\"Theobald, Mr. Thomas Leonard\",male,34,0,0,363294,8.05,,S',\n '760,1,1,\"Rothes, the Countess. of (Lucy Noel Martha Dyer-Edwards)\",female,33,0,0,110152,86.5,B77,S',\n '761,0,3,\"Garfirth, Mr. John\",male,,0,0,358585,14.5,,S',\n '762,0,3,\"Nirva, Mr. Iisakki Antino Aijo\",male,41,0,0,SOTON/O2 3101272,7.125,,S',\n '763,1,3,\"Barah, Mr. Hanna Assi\",male,20,0,0,2663,7.2292,,C',\n '764,1,1,\"Carter, Mrs. William Ernest (Lucile Polk)\",female,36,1,2,113760,120,B96 B98,S',\n '765,0,3,\"Eklund, Mr. Hans Linus\",male,16,0,0,347074,7.775,,S',\n '766,1,1,\"Hogeboom, Mrs. John C (Anna Andrews)\",female,51,1,0,13502,77.9583,D11,S',\n '767,0,1,\"Brewe, Dr. Arthur Jackson\",male,,0,0,112379,39.6,,C',\n '768,0,3,\"Mangan, Miss. Mary\",female,30.5,0,0,364850,7.75,,Q',\n '769,0,3,\"Moran, Mr. Daniel J\",male,,1,0,371110,24.15,,Q',\n '770,0,3,\"Gronnestad, Mr. Daniel Danielsen\",male,32,0,0,8471,8.3625,,S',\n '771,0,3,\"Lievens, Mr. Rene Aime\",male,24,0,0,345781,9.5,,S',\n '772,0,3,\"Jensen, Mr. Niels Peder\",male,48,0,0,350047,7.8542,,S',\n '773,0,2,\"Mack, Mrs. (Mary)\",female,57,0,0,S.O./P.P. 3,10.5,E77,S',\n '774,0,3,\"Elias, Mr. Dibo\",male,,0,0,2674,7.225,,C',\n '775,1,2,\"Hocking, Mrs. Elizabeth (Eliza Needs)\",female,54,1,3,29105,23,,S',\n '776,0,3,\"Myhrman, Mr. Pehr Fabian Oliver Malkolm\",male,18,0,0,347078,7.75,,S',\n '777,0,3,\"Tobin, Mr. Roger\",male,,0,0,383121,7.75,F38,Q',\n '778,1,3,\"Emanuel, Miss. Virginia Ethel\",female,5,0,0,364516,12.475,,S',\n '779,0,3,\"Kilgannon, Mr. Thomas J\",male,,0,0,36865,7.7375,,Q',\n '780,1,1,\"Robert, Mrs. Edward Scott (Elisabeth Walton McMillan)\",female,43,0,1,24160,211.3375,B3,S',\n '781,1,3,\"Ayoub, Miss. Banoura\",female,13,0,0,2687,7.2292,,C',\n '782,1,1,\"Dick, Mrs. Albert Adrian (Vera Gillespie)\",female,17,1,0,17474,57,B20,S',\n '783,0,1,\"Long, Mr. Milton Clyde\",male,29,0,0,113501,30,D6,S',\n '784,0,3,\"Johnston, Mr. Andrew G\",male,,1,2,W./C. 6607,23.45,,S',\n '785,0,3,\"Ali, Mr. William\",male,25,0,0,SOTON/O.Q. 3101312,7.05,,S',\n '786,0,3,\"Harmer, Mr. Abraham (David Lishin)\",male,25,0,0,374887,7.25,,S',\n '787,1,3,\"Sjoblom, Miss. Anna Sofia\",female,18,0,0,3101265,7.4958,,S',\n '788,0,3,\"Rice, Master. George Hugh\",male,8,4,1,382652,29.125,,Q',\n '789,1,3,\"Dean, Master. Bertram Vere\",male,1,1,2,C.A. 2315,20.575,,S',\n '790,0,1,\"Guggenheim, Mr. Benjamin\",male,46,0,0,PC 17593,79.2,B82 B84,C',\n '791,0,3,\"Keane, Mr. Andrew \"\"Andy\"\"\",male,,0,0,12460,7.75,,Q',\n '792,0,2,\"Gaskell, Mr. Alfred\",male,16,0,0,239865,26,,S',\n '793,0,3,\"Sage, Miss. Stella Anna\",female,,8,2,CA. 2343,69.55,,S',\n '794,0,1,\"Hoyt, Mr. William Fisher\",male,,0,0,PC 17600,30.6958,,C',\n '795,0,3,\"Dantcheff, Mr. Ristiu\",male,25,0,0,349203,7.8958,,S',\n '796,0,2,\"Otter, Mr. Richard\",male,39,0,0,28213,13,,S',\n '797,1,1,\"Leader, Dr. Alice (Farnham)\",female,49,0,0,17465,25.9292,D17,S',\n '798,1,3,\"Osman, Mrs. Mara\",female,31,0,0,349244,8.6833,,S',\n '799,0,3,\"Ibrahim Shawah, Mr. Yousseff\",male,30,0,0,2685,7.2292,,C',\n '800,0,3,\"Van Impe, Mrs. Jean Baptiste (Rosalie Paula Govaert)\",female,30,1,1,345773,24.15,,S',\n '801,0,2,\"Ponesell, Mr. Martin\",male,34,0,0,250647,13,,S',\n '802,1,2,\"Collyer, Mrs. Harvey (Charlotte Annie Tate)\",female,31,1,1,C.A. 31921,26.25,,S',\n '803,1,1,\"Carter, Master. William Thornton II\",male,11,1,2,113760,120,B96 B98,S',\n '804,1,3,\"Thomas, Master. Assad Alexander\",male,0.42,0,1,2625,8.5167,,C',\n '805,1,3,\"Hedman, Mr. Oskar Arvid\",male,27,0,0,347089,6.975,,S',\n '806,0,3,\"Johansson, Mr. Karl Johan\",male,31,0,0,347063,7.775,,S',\n '807,0,1,\"Andrews, Mr. Thomas Jr\",male,39,0,0,112050,0,A36,S',\n '808,0,3,\"Pettersson, Miss. Ellen Natalia\",female,18,0,0,347087,7.775,,S',\n '809,0,2,\"Meyer, Mr. August\",male,39,0,0,248723,13,,S',\n '810,1,1,\"Chambers, Mrs. Norman Campbell (Bertha Griggs)\",female,33,1,0,113806,53.1,E8,S',\n '811,0,3,\"Alexander, Mr. William\",male,26,0,0,3474,7.8875,,S',\n '812,0,3,\"Lester, Mr. James\",male,39,0,0,A/4 48871,24.15,,S',\n '813,0,2,\"Slemen, Mr. Richard James\",male,35,0,0,28206,10.5,,S',\n '814,0,3,\"Andersson, Miss. Ebba Iris Alfrida\",female,6,4,2,347082,31.275,,S',\n '815,0,3,\"Tomlin, Mr. Ernest Portage\",male,30.5,0,0,364499,8.05,,S',\n '816,0,1,\"Fry, Mr. Richard\",male,,0,0,112058,0,B102,S',\n '817,0,3,\"Heininen, Miss. Wendla Maria\",female,23,0,0,STON/O2. 3101290,7.925,,S',\n '818,0,2,\"Mallet, Mr. Albert\",male,31,1,1,S.C./PARIS 2079,37.0042,,C',\n '819,0,3,\"Holm, Mr. John Fredrik Alexander\",male,43,0,0,C 7075,6.45,,S',\n '820,0,3,\"Skoog, Master. Karl Thorsten\",male,10,3,2,347088,27.9,,S',\n '821,1,1,\"Hays, Mrs. Charles Melville (Clara Jennings Gregg)\",female,52,1,1,12749,93.5,B69,S',\n '822,1,3,\"Lulic, Mr. Nikola\",male,27,0,0,315098,8.6625,,S',\n '823,0,1,\"Reuchlin, Jonkheer. John George\",male,38,0,0,19972,0,,S',\n '824,1,3,\"Moor, Mrs. (Beila)\",female,27,0,1,392096,12.475,E121,S',\n '825,0,3,\"Panula, Master. Urho Abraham\",male,2,4,1,3101295,39.6875,,S',\n '826,0,3,\"Flynn, Mr. John\",male,,0,0,368323,6.95,,Q',\n '827,0,3,\"Lam, Mr. Len\",male,,0,0,1601,56.4958,,S',\n '828,1,2,\"Mallet, Master. Andre\",male,1,0,2,S.C./PARIS 2079,37.0042,,C',\n '829,1,3,\"McCormack, Mr. Thomas Joseph\",male,,0,0,367228,7.75,,Q',\n '830,1,1,\"Stone, Mrs. George Nelson (Martha Evelyn)\",female,62,0,0,113572,80,B28,',\n '831,1,3,\"Yasbeck, Mrs. Antoni (Selini Alexander)\",female,15,1,0,2659,14.4542,,C',\n '832,1,2,\"Richards, Master. George Sibley\",male,0.83,1,1,29106,18.75,,S',\n '833,0,3,\"Saad, Mr. Amin\",male,,0,0,2671,7.2292,,C',\n '834,0,3,\"Augustsson, Mr. Albert\",male,23,0,0,347468,7.8542,,S',\n '835,0,3,\"Allum, Mr. Owen George\",male,18,0,0,2223,8.3,,S',\n '836,1,1,\"Compton, Miss. Sara Rebecca\",female,39,1,1,PC 17756,83.1583,E49,C',\n '837,0,3,\"Pasic, Mr. Jakob\",male,21,0,0,315097,8.6625,,S',\n '838,0,3,\"Sirota, Mr. Maurice\",male,,0,0,392092,8.05,,S',\n '839,1,3,\"Chip, Mr. Chang\",male,32,0,0,1601,56.4958,,S',\n '840,1,1,\"Marechal, Mr. Pierre\",male,,0,0,11774,29.7,C47,C',\n '841,0,3,\"Alhomaki, Mr. Ilmari Rudolf\",male,20,0,0,SOTON/O2 3101287,7.925,,S',\n '842,0,2,\"Mudd, Mr. Thomas Charles\",male,16,0,0,S.O./P.P. 3,10.5,,S',\n '843,1,1,\"Serepeca, Miss. Augusta\",female,30,0,0,113798,31,,C',\n '844,0,3,\"Lemberopolous, Mr. Peter L\",male,34.5,0,0,2683,6.4375,,C',\n '845,0,3,\"Culumovic, Mr. Jeso\",male,17,0,0,315090,8.6625,,S',\n '846,0,3,\"Abbing, Mr. Anthony\",male,42,0,0,C.A. 5547,7.55,,S',\n '847,0,3,\"Sage, Mr. Douglas Bullen\",male,,8,2,CA. 2343,69.55,,S',\n '848,0,3,\"Markoff, Mr. Marin\",male,35,0,0,349213,7.8958,,C',\n '849,0,2,\"Harper, Rev. John\",male,28,0,1,248727,33,,S',\n '850,1,1,\"Goldenberg, Mrs. Samuel L (Edwiga Grabowska)\",female,,1,0,17453,89.1042,C92,C',\n '851,0,3,\"Andersson, Master. Sigvard Harald Elias\",male,4,4,2,347082,31.275,,S',\n '852,0,3,\"Svensson, Mr. Johan\",male,74,0,0,347060,7.775,,S',\n '853,0,3,\"Boulos, Miss. Nourelain\",female,9,1,1,2678,15.2458,,C',\n '854,1,1,\"Lines, Miss. Mary Conover\",female,16,0,1,PC 17592,39.4,D28,S',\n '855,0,2,\"Carter, Mrs. Ernest Courtenay (Lilian Hughes)\",female,44,1,0,244252,26,,S',\n '856,1,3,\"Aks, Mrs. Sam (Leah Rosen)\",female,18,0,1,392091,9.35,,S',\n '857,1,1,\"Wick, Mrs. George Dennick (Mary Hitchcock)\",female,45,1,1,36928,164.8667,,S',\n '858,1,1,\"Daly, Mr. Peter Denis \",male,51,0,0,113055,26.55,E17,S',\n '859,1,3,\"Baclini, Mrs. Solomon (Latifa Qurban)\",female,24,0,3,2666,19.2583,,C',\n '860,0,3,\"Razi, Mr. Raihed\",male,,0,0,2629,7.2292,,C',\n '861,0,3,\"Hansen, Mr. Claus Peter\",male,41,2,0,350026,14.1083,,S',\n '862,0,2,\"Giles, Mr. Frederick Edward\",male,21,1,0,28134,11.5,,S',\n '863,1,1,\"Swift, Mrs. Frederick Joel (Margaret Welles Barron)\",female,48,0,0,17466,25.9292,D17,S',\n '864,0,3,\"Sage, Miss. Dorothy Edith \"\"Dolly\"\"\",female,,8,2,CA. 2343,69.55,,S',\n '865,0,2,\"Gill, Mr. John William\",male,24,0,0,233866,13,,S',\n '866,1,2,\"Bystrom, Mrs. (Karolina)\",female,42,0,0,236852,13,,S',\n '867,1,2,\"Duran y More, Miss. Asuncion\",female,27,1,0,SC/PARIS 2149,13.8583,,C',\n '868,0,1,\"Roebling, Mr. Washington Augustus II\",male,31,0,0,PC 17590,50.4958,A24,S',\n '869,0,3,\"van Melkebeke, Mr. Philemon\",male,,0,0,345777,9.5,,S',\n '870,1,3,\"Johnson, Master. Harold Theodor\",male,4,1,1,347742,11.1333,,S',\n '871,0,3,\"Balkic, Mr. Cerin\",male,26,0,0,349248,7.8958,,S',\n '872,1,1,\"Beckwith, Mrs. Richard Leonard (Sallie Monypeny)\",female,47,1,1,11751,52.5542,D35,S',\n '873,0,1,\"Carlsson, Mr. Frans Olof\",male,33,0,0,695,5,B51 B53 B55,S',\n '874,0,3,\"Vander Cruyssen, Mr. Victor\",male,47,0,0,345765,9,,S',\n '875,1,2,\"Abelson, Mrs. Samuel (Hannah Wizosky)\",female,28,1,0,P/PP 3381,24,,C',\n '876,1,3,\"Najib, Miss. Adele Kiamie \"\"Jane\"\"\",female,15,0,0,2667,7.225,,C',\n '877,0,3,\"Gustafsson, Mr. Alfred Ossian\",male,20,0,0,7534,9.8458,,S',\n '878,0,3,\"Petroff, Mr. Nedelio\",male,19,0,0,349212,7.8958,,S',\n '879,0,3,\"Laleff, Mr. Kristo\",male,,0,0,349217,7.8958,,S',\n '880,1,1,\"Potter, Mrs. Thomas Jr (Lily Alexenia Wilson)\",female,56,0,1,11767,83.1583,C50,C',\n '881,1,2,\"Shelley, Mrs. William (Imanita Parrish Hall)\",female,25,0,1,230433,26,,S',\n '882,0,3,\"Markun, Mr. Johann\",male,33,0,0,349257,7.8958,,S',\n '883,0,3,\"Dahlberg, Miss. Gerda Ulrika\",female,22,0,0,7552,10.5167,,S',\n '884,0,2,\"Banfield, Mr. Frederick James\",male,28,0,0,C.A./SOTON 34068,10.5,,S',\n '885,0,3,\"Sutehall, Mr. Henry Jr\",male,25,0,0,SOTON/OQ 392076,7.05,,S',\n '886,0,3,\"Rice, Mrs. William (Margaret Norton)\",female,39,0,5,382652,29.125,,Q',\n '887,0,2,\"Montvila, Rev. Juozas\",male,27,0,0,211536,13,,S',\n '888,1,1,\"Graham, Miss. Margaret Edith\",female,19,0,0,112053,30,B42,S',\n '889,0,3,\"Johnston, Miss. Catherine Helen \"\"Carrie\"\"\",female,,1,2,W./C. 6607,23.45,,S',\n '890,1,1,\"Behr, Mr. Karl Howell\",male,26,0,0,111369,30,C148,C',\n '891,0,3,\"Dooley, Mr. Patrick\",male,32,0,0,370376,7.75,,Q',\n 'PassengerId,Pclass,Name,Sex,Age,SibSp,Parch,Ticket,Fare,Cabin,Embarked',\n '892,3,\"Kelly, Mr. James\",male,34.5,0,0,330911,7.8292,,Q',\n '893,3,\"Wilkes, Mrs. James (Ellen Needs)\",female,47,1,0,363272,7,,S',\n '894,2,\"Myles, Mr. Thomas Francis\",male,62,0,0,240276,9.6875,,Q',\n '895,3,\"Wirz, Mr. Albert\",male,27,0,0,315154,8.6625,,S',\n '896,3,\"Hirvonen, Mrs. Alexander (Helga E Lindqvist)\",female,22,1,1,3101298,12.2875,,S',\n '897,3,\"Svensson, Mr. Johan Cervin\",male,14,0,0,7538,9.225,,S',\n '898,3,\"Connolly, Miss. Kate\",female,30,0,0,330972,7.6292,,Q',\n '899,2,\"Caldwell, Mr. Albert Francis\",male,26,1,1,248738,29,,S',\n '900,3,\"Abrahim, Mrs. Joseph (Sophie Halaut Easu)\",female,18,0,0,2657,7.2292,,C',\n '901,3,\"Davies, Mr. John Samuel\",male,21,2,0,A/4 48871,24.15,,S',\n '902,3,\"Ilieff, Mr. Ylio\",male,,0,0,349220,7.8958,,S',\n '903,1,\"Jones, Mr. Charles Cresson\",male,46,0,0,694,26,,S',\n '904,1,\"Snyder, Mrs. John Pillsbury (Nelle Stevenson)\",female,23,1,0,21228,82.2667,B45,S',\n '905,2,\"Howard, Mr. Benjamin\",male,63,1,0,24065,26,,S',\n '906,1,\"Chaffee, Mrs. Herbert Fuller (Carrie Constance Toogood)\",female,47,1,0,W.E.P. 5734,61.175,E31,S',\n '907,2,\"del Carlo, Mrs. Sebastiano (Argenia Genovesi)\",female,24,1,0,SC/PARIS 2167,27.7208,,C',\n '908,2,\"Keane, Mr. Daniel\",male,35,0,0,233734,12.35,,Q',\n '909,3,\"Assaf, Mr. Gerios\",male,21,0,0,2692,7.225,,C',\n '910,3,\"Ilmakangas, Miss. Ida Livija\",female,27,1,0,STON/O2. 3101270,7.925,,S',\n '911,3,\"Assaf Khalil, Mrs. Mariana (Miriam\"\")\"\"\",female,45,0,0,2696,7.225,,C',\n '912,1,\"Rothschild, Mr. Martin\",male,55,1,0,PC 17603,59.4,,C',\n '913,3,\"Olsen, Master. Artur Karl\",male,9,0,1,C 17368,3.1708,,S',\n '914,1,\"Flegenheim, Mrs. Alfred (Antoinette)\",female,,0,0,PC 17598,31.6833,,S',\n '915,1,\"Williams, Mr. Richard Norris II\",male,21,0,1,PC 17597,61.3792,,C',\n '916,1,\"Ryerson, Mrs. Arthur Larned (Emily Maria Borie)\",female,48,1,3,PC 17608,262.375,B57 B59 B63 B66,C',\n '917,3,\"Robins, Mr. Alexander A\",male,50,1,0,A/5. 3337,14.5,,S',\n '918,1,\"Ostby, Miss. Helene Ragnhild\",female,22,0,1,113509,61.9792,B36,C',\n '919,3,\"Daher, Mr. Shedid\",male,22.5,0,0,2698,7.225,,C',\n '920,1,\"Brady, Mr. John Bertram\",male,41,0,0,113054,30.5,A21,S',\n '921,3,\"Samaan, Mr. Elias\",male,,2,0,2662,21.6792,,C',\n '922,2,\"Louch, Mr. Charles Alexander\",male,50,1,0,SC/AH 3085,26,,S',\n '923,2,\"Jefferys, Mr. Clifford Thomas\",male,24,2,0,C.A. 31029,31.5,,S',\n '924,3,\"Dean, Mrs. Bertram (Eva Georgetta Light)\",female,33,1,2,C.A. 2315,20.575,,S',\n '925,3,\"Johnston, Mrs. Andrew G (Elizabeth Lily\"\" Watson)\"\"\",female,,1,2,W./C. 6607,23.45,,S',\n '926,1,\"Mock, Mr. Philipp Edmund\",male,30,1,0,13236,57.75,C78,C',\n '927,3,\"Katavelas, Mr. Vassilios (Catavelas Vassilios\"\")\"\"\",male,18.5,0,0,2682,7.2292,,C',\n '928,3,\"Roth, Miss. Sarah A\",female,,0,0,342712,8.05,,S',\n '929,3,\"Cacic, Miss. Manda\",female,21,0,0,315087,8.6625,,S',\n '930,3,\"Sap, Mr. Julius\",male,25,0,0,345768,9.5,,S',\n '931,3,\"Hee, Mr. Ling\",male,,0,0,1601,56.4958,,S',\n '932,3,\"Karun, Mr. Franz\",male,39,0,1,349256,13.4167,,C',\n '933,1,\"Franklin, Mr. Thomas Parham\",male,,0,0,113778,26.55,D34,S',\n '934,3,\"Goldsmith, Mr. Nathan\",male,41,0,0,SOTON/O.Q. 3101263,7.85,,S',\n '935,2,\"Corbett, Mrs. Walter H (Irene Colvin)\",female,30,0,0,237249,13,,S',\n '936,1,\"Kimball, Mrs. Edwin Nelson Jr (Gertrude Parsons)\",female,45,1,0,11753,52.5542,D19,S',\n '937,3,\"Peltomaki, Mr. Nikolai Johannes\",male,25,0,0,STON/O 2. 3101291,7.925,,S',\n '938,1,\"Chevre, Mr. Paul Romaine\",male,45,0,0,PC 17594,29.7,A9,C',\n '939,3,\"Shaughnessy, Mr. Patrick\",male,,0,0,370374,7.75,,Q',\n '940,1,\"Bucknell, Mrs. William Robert (Emma Eliza Ward)\",female,60,0,0,11813,76.2917,D15,C',\n '941,3,\"Coutts, Mrs. William (Winnie Minnie\"\" Treanor)\"\"\",female,36,0,2,C.A. 37671,15.9,,S',\n '942,1,\"Smith, Mr. Lucien Philip\",male,24,1,0,13695,60,C31,S',\n '943,2,\"Pulbaum, Mr. Franz\",male,27,0,0,SC/PARIS 2168,15.0333,,C',\n '944,2,\"Hocking, Miss. Ellen Nellie\"\"\"\"\",female,20,2,1,29105,23,,S',\n '945,1,\"Fortune, Miss. Ethel Flora\",female,28,3,2,19950,263,C23 C25 C27,S',\n '946,2,\"Mangiavacchi, Mr. Serafino Emilio\",male,,0,0,SC/A.3 2861,15.5792,,C',\n '947,3,\"Rice, Master. Albert\",male,10,4,1,382652,29.125,,Q',\n '948,3,\"Cor, Mr. Bartol\",male,35,0,0,349230,7.8958,,S',\n '949,3,\"Abelseth, Mr. Olaus Jorgensen\",male,25,0,0,348122,7.65,F G63,S',\n '950,3,\"Davison, Mr. Thomas Henry\",male,,1,0,386525,16.1,,S',\n '951,1,\"Chaudanson, Miss. Victorine\",female,36,0,0,PC 17608,262.375,B61,C',\n '952,3,\"Dika, Mr. Mirko\",male,17,0,0,349232,7.8958,,S',\n '953,2,\"McCrae, Mr. Arthur Gordon\",male,32,0,0,237216,13.5,,S',\n '954,3,\"Bjorklund, Mr. Ernst Herbert\",male,18,0,0,347090,7.75,,S',\n '955,3,\"Bradley, Miss. Bridget Delia\",female,22,0,0,334914,7.725,,Q',\n '956,1,\"Ryerson, Master. John Borie\",male,13,2,2,PC 17608,262.375,B57 B59 B63 B66,C',\n '957,2,\"Corey, Mrs. Percy C (Mary Phyllis Elizabeth Miller)\",female,,0,0,F.C.C. 13534,21,,S',\n '958,3,\"Burns, Miss. Mary Delia\",female,18,0,0,330963,7.8792,,Q',\n '959,1,\"Moore, Mr. Clarence Bloomfield\",male,47,0,0,113796,42.4,,S',\n '960,1,\"Tucker, Mr. Gilbert Milligan Jr\",male,31,0,0,2543,28.5375,C53,C',\n '961,1,\"Fortune, Mrs. Mark (Mary McDougald)\",female,60,1,4,19950,263,C23 C25 C27,S',\n '962,3,\"Mulvihill, Miss. Bertha E\",female,24,0,0,382653,7.75,,Q',\n '963,3,\"Minkoff, Mr. Lazar\",male,21,0,0,349211,7.8958,,S',\n '964,3,\"Nieminen, Miss. Manta Josefina\",female,29,0,0,3101297,7.925,,S',\n '965,1,\"Ovies y Rodriguez, Mr. Servando\",male,28.5,0,0,PC 17562,27.7208,D43,C',\n '966,1,\"Geiger, Miss. Amalie\",female,35,0,0,113503,211.5,C130,C',\n '967,1,\"Keeping, Mr. Edwin\",male,32.5,0,0,113503,211.5,C132,C',\n '968,3,\"Miles, Mr. Frank\",male,,0,0,359306,8.05,,S',\n '969,1,\"Cornell, Mrs. Robert Clifford (Malvina Helen Lamson)\",female,55,2,0,11770,25.7,C101,S',\n '970,2,\"Aldworth, Mr. Charles Augustus\",male,30,0,0,248744,13,,S',\n '971,3,\"Doyle, Miss. Elizabeth\",female,24,0,0,368702,7.75,,Q',\n '972,3,\"Boulos, Master. Akar\",male,6,1,1,2678,15.2458,,C',\n '973,1,\"Straus, Mr. Isidor\",male,67,1,0,PC 17483,221.7792,C55 C57,S',\n '974,1,\"Case, Mr. Howard Brown\",male,49,0,0,19924,26,,S',\n '975,3,\"Demetri, Mr. Marinko\",male,,0,0,349238,7.8958,,S',\n '976,2,\"Lamb, Mr. John Joseph\",male,,0,0,240261,10.7083,,Q',\n '977,3,\"Khalil, Mr. Betros\",male,,1,0,2660,14.4542,,C',\n '978,3,\"Barry, Miss. Julia\",female,27,0,0,330844,7.8792,,Q',\n '979,3,\"Badman, Miss. Emily Louisa\",female,18,0,0,A/4 31416,8.05,,S',\n '980,3,\"O\\'Donoghue, Ms. Bridget\",female,,0,0,364856,7.75,,Q',\n '981,2,\"Wells, Master. Ralph Lester\",male,2,1,1,29103,23,,S',\n '982,3,\"Dyker, Mrs. Adolf Fredrik (Anna Elisabeth Judith Andersson)\",female,22,1,0,347072,13.9,,S',\n '983,3,\"Pedersen, Mr. Olaf\",male,,0,0,345498,7.775,,S',\n '984,1,\"Davidson, Mrs. Thornton (Orian Hays)\",female,27,1,2,F.C. 12750,52,B71,S',\n '985,3,\"Guest, Mr. Robert\",male,,0,0,376563,8.05,,S',\n '986,1,\"Birnbaum, Mr. Jakob\",male,25,0,0,13905,26,,C',\n '987,3,\"Tenglin, Mr. Gunnar Isidor\",male,25,0,0,350033,7.7958,,S',\n '988,1,\"Cavendish, Mrs. Tyrell William (Julia Florence Siegel)\",female,76,1,0,19877,78.85,C46,S',\n '989,3,\"Makinen, Mr. Kalle Edvard\",male,29,0,0,STON/O 2. 3101268,7.925,,S',\n '990,3,\"Braf, Miss. Elin Ester Maria\",female,20,0,0,347471,7.8542,,S',\n '991,3,\"Nancarrow, Mr. William Henry\",male,33,0,0,A./5. 3338,8.05,,S',\n '992,1,\"Stengel, Mrs. Charles Emil Henry (Annie May Morris)\",female,43,1,0,11778,55.4417,C116,C',\n '993,2,\"Weisz, Mr. Leopold\",male,27,1,0,228414,26,,S',\n '994,3,\"Foley, Mr. William\",male,,0,0,365235,7.75,,Q',\n '995,3,\"Johansson Palmquist, Mr. Oskar Leander\",male,26,0,0,347070,7.775,,S',\n '996,3,\"Thomas, Mrs. Alexander (Thamine Thelma\"\")\"\"\",female,16,1,1,2625,8.5167,,C',\n '997,3,\"Holthen, Mr. Johan Martin\",male,28,0,0,C 4001,22.525,,S',\n '998,3,\"Buckley, Mr. Daniel\",male,21,0,0,330920,7.8208,,Q',\n ...]"
     },
     "metadata": {},
     "execution_count": 19
    }
   ],
   "source": [
    "# 支持输入目录\n",
    "rdd = sc.textFile('../../data/titanic')\n",
    "rdd.take(5)"
   ]
  },
  {
   "cell_type": "code",
   "execution_count": 9,
   "metadata": {},
   "outputs": [
    {
     "output_type": "execute_result",
     "data": {
      "text/plain": "['PassengerId,Survived,Pclass,Name,Sex,Age,SibSp,Parch,Ticket,Fare,Cabin,Embarked',\n '1,0,3,\"Braund, Mr. Owen Harris\",male,22,1,0,A/5 21171,7.25,,S',\n '2,1,1,\"Cumings, Mrs. John Bradley (Florence Briggs Thayer)\",female,38,1,0,PC 17599,71.2833,C85,C',\n '3,1,3,\"Heikkinen, Miss. Laina\",female,26,0,0,STON/O2. 3101282,7.925,,S',\n '4,1,1,\"Futrelle, Mrs. Jacques Heath (Lily May Peel)\",female,35,1,0,113803,53.1,C123,S']"
     },
     "metadata": {},
     "execution_count": 9
    }
   ],
   "source": [
    "# 支持输入文件通配符\n",
    "rdd = sc.textFile('../../data/*.csv')\n",
    "rdd.take(5)"
   ]
  },
  {
   "cell_type": "markdown",
   "metadata": {},
   "source": [
    "除文本文件外，Spark的Python API还支持其他几种数据格式：\n",
    "\n",
    "- `SparkContext.wholeTextFiles`读取包含多个小文本文件的目录，并将每个小文本文件作为（文件名，内容）对返回。相比textFile，会在每个文件的每一行返回一条记录。\n",
    "\n",
    "- `RDD.saveAsPickleFile`和`SparkContext.pickleFile`支持将RDD保存为由pickle序列化的Python对象组成的简单格式。可批处理pickle序列化，默认批处理大小为10。\n",
    "\n",
    "- SequenceFile和Hadoop输入/输出格式\n"
   ]
  },
  {
   "cell_type": "code",
   "execution_count": 10,
   "metadata": {},
   "outputs": [
    {
     "output_type": "execute_result",
     "data": {
      "text/plain": "('file:/mnt/Workspace/spark/_tutorial/learn-spark-with-python/data/twitter.txt',\n 'Fresh install of XP on new computer. Sweet relief! fuck vista\\t1018769417\\t1.0\\nWell. Now I know where to go when I want my knives. #ChiChevySXSW http://post.ly/RvDl\\t10284216536\\t1.0\\n\"Literally six weeks before I can take off \"\"SSC Chair\"\" off my email. Its like the torturous 4th mile before everything stops hurting.\"\\t10298589026\\t1.0\\nMitsubishi i MiEV - Wikipedia, the free encyclopedia - http://goo.gl/xipe Cutest car ever!\\t109017669432377344\\t1.0\\n\\'Cheap Eats in SLP\\' - http://t.co/4w8gRp7\\t109642968603963392\\t1.0\\nTeenage Mutant Ninja Turtle art is never a bad thing... http://bit.ly/aDMHyW\\t10995492579\\t1.0\\nNew demographic survey of online video viewers: http://bit.ly/cx8b7I via @KellyOlexa\\t11713360136\\t1.0\\nhi all - i\\'m going to be tweeting things lookstat at the @lookstat twitter account. please follow me there\\t1208319583\\t1.0\\nHoly carp, no. That movie will seriously suffer for it. RT @MouseInfo: Anyone excited for The Little Mermaid in 3D?\\t121330835726155776\\t1.0\\n\"Did I really need to learn \"\"I bought a box and put in it things\"\" in arabic? This is the most random book ever.\"\\t12358025545\\t1.0\\n')"
     },
     "metadata": {},
     "execution_count": 10
    }
   ],
   "source": [
    "rdd = sc.wholeTextFiles(\"../../data\")\n",
    "rdd.first()"
   ]
  },
  {
   "cell_type": "markdown",
   "metadata": {},
   "source": [
    "## RDD操作\n",
    "\n",
    "RDD支持两种类型的操作：`转换`（transformations，从现有数据集创建新数据集）和`动作`（actions，在对数据集执行计算后，将值返回给驱动程序）。\n",
    "\n",
    "Spark中的所有转换都是惰性的，因为它们不会立即计算出结果。相反，他们只记得应用于某些基本数据集（例如文件）的转换。仅当动作要求将结果返回给驱动程序时才计算转换。这种设计使Spark可以更高效地运行。例如，我们可以意识到，通过创建的数据集map将用于中，reduce并且仅将结果返回reduce给驱动程序，而不是将较大的映射数据集返回给驱动程序。\n",
    "\n",
    "默认情况下，每次在其上执行动作时，都可能会重新计算每个转换后的RDD。但也可使用persist（或cache）方法将RDD保留在内存中，在这种情况下，Spark会将元素保留在集群中，以便下次查询时可以更快地进行访问。还支持将RDD持久保存在磁盘上，或在多个节点之间复制。"
   ]
  },
  {
   "cell_type": "markdown",
   "metadata": {},
   "source": [
    "### 传lambda表达式"
   ]
  },
  {
   "cell_type": "code",
   "execution_count": 11,
   "metadata": {
    "tags": []
   },
   "outputs": [
    {
     "output_type": "stream",
     "name": "stdout",
     "text": "1087\n1087\n"
    }
   ],
   "source": [
    "# 统计字符数\n",
    "lines = sc.textFile(\"../../data/twitter.txt\")\n",
    "lineLengths = lines.map(lambda s: len(s))\n",
    "totalLength = lineLengths.reduce(lambda a, b: a + b)\n",
    "print(totalLength)\n",
    "\n",
    "# 将RDD保存在内存中\n",
    "lineLengths.persist()\n",
    "totalLength = lineLengths.reduce(lambda a, b: a + b)\n",
    "print(totalLength)\n"
   ]
  },
  {
   "cell_type": "markdown",
   "metadata": {},
   "source": [
    "### 传函数"
   ]
  },
  {
   "cell_type": "code",
   "execution_count": 12,
   "metadata": {},
   "outputs": [
    {
     "output_type": "execute_result",
     "data": {
      "text/plain": "151"
     },
     "metadata": {},
     "execution_count": 12
    }
   ],
   "source": [
    "# 统计字数\n",
    "def word_count(s):\n",
    "    words = s.split(\" \")\n",
    "    return len(words)\n",
    "\n",
    "wordCnts = lines.map(word_count)\n",
    "wordCnts.reduce(lambda a, b: a + b)"
   ]
  },
  {
   "cell_type": "markdown",
   "metadata": {},
   "source": [
    "### 传类方法或成员"
   ]
  },
  {
   "cell_type": "code",
   "execution_count": 13,
   "metadata": {},
   "outputs": [],
   "source": [
    "# 注意：尽量不要传对象的成员或方法，因为如果引用某个对象的成员或方法，则整个对象都要传到集群中，如下\n",
    "class MyClass(object):\n",
    "    def __init__(self):\n",
    "        self.field = \"Hello\"\n",
    "    def func(self, s):\n",
    "        return s\n",
    "    def doStuff(self, rdd):\n",
    "        return rdd.map(self.func)\n",
    "    def doStuff2(self, rdd):\n",
    "        return rdd.map(lambda s: self.field + s)\n",
    "        \n",
    "# 为避免上述问题，可将需要引用的成员或方法复制为局部变量再传入\n",
    "class MyClass2(object):\n",
    "    def __init__(self):\n",
    "        self.field = \"Hello\"\n",
    "    def func(self, s):\n",
    "        return s\n",
    "    def doStuff(self, rdd):\n",
    "        _func = self.func\n",
    "        return rdd.map(_func)\n",
    "    def doStuff2(self, rdd):\n",
    "        _filed = self.field\n",
    "        return rdd.map(lambda s: _field + s)"
   ]
  },
  {
   "cell_type": "markdown",
   "metadata": {},
   "source": [
    "### 闭包\n",
    "\n",
    "如果要传闭包函数，则必须要了解跨集群执行代码时的变量和方法的范围和生命周期。\n",
    "\n",
    "下述示例为计算RDD元素之和的代码。"
   ]
  },
  {
   "cell_type": "code",
   "execution_count": 14,
   "metadata": {
    "tags": []
   },
   "outputs": [
    {
     "output_type": "stream",
     "name": "stdout",
     "text": "Counter value:  0\n"
    }
   ],
   "source": [
    "counter = 0\n",
    "rdd = sc.parallelize([1,2,3,4])\n",
    "\n",
    "# Wrong: Don't do this!!\n",
    "def increment_counter(x):\n",
    "    global counter\n",
    "    counter += x\n",
    "rdd.foreach(increment_counter)\n",
    "\n",
    "print(\"Counter value: \", counter)"
   ]
  },
  {
   "cell_type": "markdown",
   "metadata": {},
   "source": [
    "Spark执行RDD操作会将任务分解到多个执行程序，而每个执行程序上的闭包的变量都是一个副本，因此在程序中的counter最终还是0。\n",
    "\n",
    "通常，闭包不应改变某些全局状态。Spark不定义或保证从闭包外部引用的对象的改变行为。某些执行此操作的代码可能会在本地模式下工作，但这只是偶然的情况，此类代码在分布式模式下将无法按预期运行。如果需要某些全局汇总，可使用累加器`Accumulator`。\n",
    "\n",
    "另外，关于打印RDD元素也要注意这个问题，在单台机器上使用`rdd.foreach(print)`或`rdd.map(print)`是可行的，但在集群模式下应该使用`collect`方法，"
   ]
  },
  {
   "cell_type": "code",
   "execution_count": 15,
   "metadata": {},
   "outputs": [
    {
     "output_type": "execute_result",
     "data": {
      "text/plain": "[1, 2, 3, 4]"
     },
     "metadata": {},
     "execution_count": 15
    }
   ],
   "source": [
    "rdd = sc.parallelize([1,2,3,4])\n",
    "rdd.collect()"
   ]
  },
  {
   "cell_type": "markdown",
   "metadata": {},
   "source": [
    "### 使用键值对"
   ]
  },
  {
   "cell_type": "code",
   "execution_count": 16,
   "metadata": {
    "tags": []
   },
   "outputs": [
    {
     "output_type": "execute_result",
     "data": {
      "text/plain": "[('\"Did I really need to learn \"\"I bought a box and put in it things\"\" in arabic? This is the most random book ever.\"\\t12358025545\\t1.0',\n  1),\n ('\"Literally six weeks before I can take off \"\"SSC Chair\"\" off my email. Its like the torturous 4th mile before everything stops hurting.\"\\t10298589026\\t1.0',\n  1),\n (\"'Cheap Eats in SLP' - http://t.co/4w8gRp7\\t109642968603963392\\t1.0\", 1),\n ('Fresh install of XP on new computer. Sweet relief! fuck vista\\t1018769417\\t1.0',\n  1),\n ('Holy carp, no. That movie will seriously suffer for it. RT @MouseInfo: Anyone excited for The Little Mermaid in 3D?\\t121330835726155776\\t1.0',\n  1),\n ('Mitsubishi i MiEV - Wikipedia, the free encyclopedia - http://goo.gl/xipe Cutest car ever!\\t109017669432377344\\t1.0',\n  1),\n ('New demographic survey of online video viewers: http://bit.ly/cx8b7I via @KellyOlexa\\t11713360136\\t1.0',\n  1),\n ('Teenage Mutant Ninja Turtle art is never a bad thing... http://bit.ly/aDMHyW\\t10995492579\\t1.0',\n  1),\n ('Well. Now I know where to go when I want my knives. #ChiChevySXSW http://post.ly/RvDl\\t10284216536\\t1.0',\n  1),\n (\"hi all - i'm going to be tweeting things lookstat at the @lookstat twitter account. please follow me there\\t1208319583\\t1.0\",\n  1)]"
     },
     "metadata": {},
     "execution_count": 16
    }
   ],
   "source": [
    "# 统计字符数\n",
    "lines = sc.textFile(\"../../data/twitter.txt\")\n",
    "pairs = lines.map(lambda s: (s, 1))\n",
    "counts = pairs.reduceByKey(lambda a, b: a + b)\n",
    "counts.sortByKey().collect()"
   ]
  },
  {
   "cell_type": "markdown",
   "metadata": {},
   "source": [
    "### 常见转换\n",
    "\n",
    "- **map**(*func*) - 返回一个新的RDD，该RDD是由将源数据集的每个元素经过函数*func*计算后返回值组成。\n",
    "\n",
    "- **filter**(*func*) - 返回一个新的RDD，该RDD由经过*func*函数计算后返回值为true的输入元素组成\n",
    "\n",
    "- **flatMap**(*func*) - 类似于map，但是每一个输入元素可以被映射为0或多个输出元素（所以*func*应该返回一个序列，而不是单一元素）\n",
    "\n",
    "- **mapPartitions**(*func*) - 类似于map，但独立地在RDD的每一个分片上运行，因此在类型为T的RDD上运行时，*func*的函数类型必须是Iterator&lt;T> => Iterator&lt;U>\n",
    "\n",
    "- **mapPartitionsWithIndex**(*func*) - 类似于mapPartitions，但*func*带有一个整数参数表示分片的索引值，因此在类型为T的RDD上运行时，*func*的函数类型必须是(Int, Interator&lt;T>) => Iterator&lt;U>\n",
    "\n",
    "- **sample**(*withReplacement*, *fraction*, *seed*) - 根据*fraction*指定的比例对数据进行采样，可以选择是否使用随机数进行替换，*seed*用于指定随机数生成器种子\n",
    "\n",
    "- **union**(*otherDataset*) - 对源RDD和参数RDD求并集后返回一个新的RDD\n",
    "\n",
    "- **intersection**(*otherDataset*) - 对源RDD和参数RDD求交集后返回一个新的RDD\n",
    "\n",
    "- **distinct**(\\[*numPartitions*\\])) - 对源RDD进行去重后返回一个新的RDD\n",
    "\n",
    "- **groupByKey**(\\[*numPartitions*\\]) - 在(K,V)对的RDD上调用，返回(K, Iterator&lt;V>)对的RDD。 **注意:**(1)如果要分组以便对每个键执行汇总（例如求和或平均值），则使用`reduceByKey`或`aggregateByKey`性能会更好。(2)默认情况下，输出中的并行度取决于父RDD的分区数。可以传递一个可选numPartitions参数来设置不同数量的任务。\n",
    "\n",
    "- **reduceByKey**(*func*, \\[*numPartitions*\\]) - 在(K,V)对的RDD上调用，返回(K,V)对的RDD，其中每个键的值由指定的reduce函数*func*汇总得到，函数类型必须为(V,V) => V。与groupByKey类似，reduce任务的个数可以通过第二个可选的参数来设置\n",
    "\n",
    "- **aggregateByKey**(*zeroValue*)(*seqOp*, *combOp*, \\[*numPartitions*\\]) - 在(K,V)对的RDD上调用，返回(K,U)对的RDD，其中每个键的值由给定的组合函数*combOp*加中性\"零\"值进行汇总。允许输入值类型与汇合值类型不同，采用此方法可避免一些不必要的分配。例如：aggregateByKey(0)(_+_,_+_) 对k/y的RDD进行操作\n",
    "\n",
    "- **sortByKey**(\\[*ascending*\\], \\[*numPartitions*\\]) - 在(K,V)对的RDD上调用，返回按K排序的(K,V)对RDD。必须实现Ordered接口。\n",
    "\n",
    "- **sortBy**(*func*,\\[*ascending*\\], \\[*numPartitions*\\]) - 与sortByKey类似，但是更灵活。第一个参数是根据什么排序；第二个是否升序；第三个排序后分区数，默认与原RDD一样。\n",
    "\n",
    "- **join**(*otherDataset*, \\[*numPartitions*\\]) - 在(K,V)和(K,W)的RDD上调用，返回(K,(V,W))的RDD，其中每个键都有所有成对的元素，相当于内连接(求交集)。外连接通过外连接leftOuterJoin，rightOuterJoin和fullOuterJoin支持。\n",
    "\n",
    "- **leftOuterJoin** - leftOuterJoin类似于SQL中的左外关联left outer join，返回结果以前面的RDD为主，关联不上的记录为空。只能用于两个RDD之间的关联，如果要多个RDD关联，多关联几次即可。\n",
    "\n",
    "- **rightOuterJoin** - rightOuterJoin类似于SQL中的有外关联right outer join，返回结果以参数中的RDD为主，关联不上的记录为空。只能用于两个RDD之间的关联，如果要多个RDD关联，多关联几次即可\n",
    "\n",
    "- **cogroup**(*otherDataset*, \\[*numPartitions*\\]) - 在(K,V)和(K,W)的RDD上调用，返回一个(K,(Iterable&lt;V>,Iterable<W&gt))类型的RDD。此操作也称`groupWith`\n",
    "\n",
    "- **cartesian**(*otherDataset*) - 在类型T和U的RDD上调用时，返回（T，U）所有元素对（笛卡尔积）的RDD\n",
    "\n",
    "- **pipe**(*command*, \\[*envVars*\\]) - 通过管道RDD的每个分区传递给Shell命令（例如Perl或bash脚本）。将RDD元素写入进程的stdin，并将输出到其stdout的行作为字符串的RDD返回。\n",
    "\n",
    "- **coalesce**(*numPartitions*) - 重新分区，第一个参数是要分多少区，第二个参数是否shuffle，默认false，少分区变多分区-true，多分区变少分区-false\n",
    "\n",
    "- **repartition**(*numPartitions*) - 重新分区，必须shuffle，参数是要分多少区\n",
    "\n",
    "- **repartitionAndSortWithinPartitions**(*partitioner*) - 根据给定的分区程序*partitioner*对RDD重新分区，并在每个结果分区中，按其键对记录进行排序。这比`repartition`在每个分区内调用然后排序更为有效，因为它可以将排序沉入洗牌机制。\n",
    "\n",
    "- **foldByKey**(*zeroValue*)(*seqOp*) - 该函数用于K/V做折叠，合并处理。与aggregate类似，第一个括号的参数应用于每个V值  第二括号函数是聚合例如：_+_\n",
    "\n",
    "- **combineByKey** - 合并相同的key的值。rdd1.combineByKey(x => x, (a: Int, b: Int) => a + b, (m: Int, n: Int) => m + n)\n",
    "\n",
    "- **partitionBy**(*partitioner*) - 对RDD进行分区。partitioner是分区器 例如new HashPartition(2\n",
    "\n",
    "- **cache**|**persist**：RDD缓存，可以避免重复计算从而减少时间。区别：cache内部调用了persist算子，cache默认就一个缓存级别MEMORY-ONLY ，而persist则可以选择缓存级别\n",
    "\n",
    "- **subtract**(*rdd*)- 返回前RDD元素不在后*rdd*的RDD\n",
    "\n",
    "- **subtractByKey**(*otherRDD*) - substractByKey和subtract类似，只不过这里是针对K的，返回在主RDD中出现，并且不在*otherRDD*中出现的元素\n"
   ]
  },
  {
   "cell_type": "markdown",
   "metadata": {},
   "source": [
    "### 常见动作\n",
    "- **reduce**(*func*) - 使用函数*func*(该函数接受两个参数并返回一个)来汇总数据集的元素。该函数应该是可交换的和关联的，以便可以并行正确地计算它。\n",
    "\n",
    "- **collect**() - 在驱动程序中，以数组的形式返回数据集的所有元素\n",
    "\n",
    "- **count**() - 返回RDD的元素个数\n",
    "\n",
    "- **first**() - 返回RDD的第一个元素(类似于take(1))\n",
    "\n",
    "- **take**(*n*) - 返回一个由数据集的前*n*个元素组成的数组\n",
    "\n",
    "- **takeSample**(*withReplacement*,*num*, \\[*seed*\\]) - 返回一个数组，该数组由从数据集中随机采样的num个元素组成，可以选择是否用随机数替换不足的部分，seed用于指定随机数生成器种子\n",
    "\n",
    "- **takeOrdered**(*n*, \\[*ordering*\\]) - 使用自然顺序或自定义比较器*ordering*返回RDD的前n个元素。\n",
    "\n",
    "- **saveAsTextFile**(*path*) - 将数据集的元素以textfile的形式保存到HDFS文件系统或者其他支持的文件系统，对于每个元素，Spark将会调用toString方法，将它装换为文件中的一行文本\n",
    "\n",
    "- **saveAsSequenceFile**(*path*) （Java和Scala）- 在本地文件系统，HDFS或任何其他Hadoop支持的文件系统的给定路径中，将数据集的元素作为Hadoop SequenceFile写入。在实现Hadoop的Writable接口的键值对的RDD上可用。在Scala中，它也可用于隐式转换为Writable的类型（Spark包括对基本类型（如Int，Double，String等）的转换）。\n",
    "\n",
    "- **saveAsObjectFile**(*path*) （Java和Scala）- 使用Java序列化以简单的格式编写数据集的元素，然后可以使用`SparkContext.objectFile()`进行加载。\n",
    "\n",
    "- **countByKey**() - 针对(K,V)类型的RDD，返回一个(K,Int)的map，表示每一个key对应的元素个数。\n",
    "\n",
    "- **foreach**(*func*) - 在数据集的每一个元素上，运行函数*func*进行更新。\n",
    "\n",
    "- **foreachPartition** - \n",
    "\n",
    "\n",
    "- **aggregate** - 先对分区进行操作，在总体操作\n",
    "\n",
    "- **reduceByKeyLocally** - \n",
    "\n",
    "- **lookup** - \n",
    "\n",
    "- **top** - \n",
    "\n",
    "- **fold** - \n",
    "\n",
    "\n",
    "\n",
    " "
   ]
  },
  {
   "cell_type": "code",
   "execution_count": null,
   "metadata": {},
   "outputs": [],
   "source": []
  }
 ]
}